{
 "cells": [
  {
   "cell_type": "code",
   "execution_count": 16,
   "metadata": {},
   "outputs": [
    {
     "name": "stdout",
     "output_type": "stream",
     "text": [
      "The autoreload extension is already loaded. To reload it, use:\n",
      "  %reload_ext autoreload\n"
     ]
    }
   ],
   "source": [
    "import pandas as pd\n",
    "import matplotlib\n",
    "matplotlib.use('Agg')\n",
    "import matplotlib.pyplot as plt\n",
    "from matplotlib.backends.backend_pdf import PdfPages\n",
    "import seaborn as sns\n",
    "%matplotlib inline\n",
    "%load_ext autoreload\n",
    "%autoreload 2\n",
    "from scripts.parsing_utils import *\n",
    "from utils.utils import *\n",
    "from scripts.parse_results import *"
   ]
  },
  {
   "cell_type": "code",
   "execution_count": 32,
   "metadata": {},
   "outputs": [
    {
     "name": "stdout",
     "output_type": "stream",
     "text": [
      "7\n",
      "diff_partitions-nested_loop_index7-mscn-df:10-nn:2:512-loss:flow_loss2-0.0--D0.1-637\n",
      "******\n",
      "skipping  /home/pari/learned-cardinalities/all_results/inl_fixed_scan_ops/nested_loop_index7/test_diff/final_results_new_seeds/diff_partitions-nested_loop_index7-mscn-df:10-nn:2:512-loss:flow_loss2-0.0--D0.1-920\n",
      "skipping  /home/pari/learned-cardinalities/all_results/inl_fixed_scan_ops/nested_loop_index7/test_diff/final_results_new_seeds/diff_partitions-nested_loop_index7-mscn-df:10-nn:2:512-loss:mse-0.0--D0.1-808\n",
      "skipping  /home/pari/learned-cardinalities/all_results/inl_fixed_scan_ops/nested_loop_index7/test_diff/final_results_new_seeds/diff_partitions-nested_loop_index7-mscn-df:10-nn:2:512-loss:flow_loss2-0.0--D0.1-142\n",
      "6\n",
      "diff_partitions-nested_loop_index7-mscn-df:10-nn:2:512-loss:flow_loss2-0.0--D0.1-505\n",
      "******\n",
      "6\n",
      "diff_partitions-nested_loop_index7-mscn-df:10-nn:2:512-loss:mse-0.0--D0.1-725\n",
      "******\n",
      "7\n",
      "diff_partitions-nested_loop_index7-mscn-df:10-nn:2:512-loss:mse-0.0--D0.1-102\n",
      "******\n",
      "skipping  /home/pari/learned-cardinalities/all_results/inl_fixed_scan_ops/nested_loop_index7/test_diff/final_results_new_seeds/diff_partitions-nested_loop_index7-mscn-df:10-nn:2:512-loss:flow_loss2-0.0--D0.1-136\n"
     ]
    }
   ],
   "source": [
    "RES_DIR1 = \"/home/pari/learned-cardinalities/all_results/inl_fixed_scan_ops/nested_loop_index7/test_diff/final_results_new_seeds\"\n",
    "\n",
    "## default\n",
    "#RES_DIR = \"/home/pari/learned-cardinalities/all_results/inl_fixed_scan_ops/nested_loop_index7/test_diff/final_results4\"\n",
    "\n",
    "RES_DIRS = []\n",
    "RES_DIRS.append(RES_DIR1)\n",
    "#RES_DIRS.append(RES_DIR2)\n",
    "#RES_DIRS.append(RES_DIR3)\n",
    "\n",
    "assert os.path.exists(RES_DIR1)\n",
    "\n",
    "SAVE_DIR =\"./figures/results2/\"\n",
    "make_dir(SAVE_DIR)\n",
    "FN_TMP = \"{ERROR_TYPE}-{SAMPLES_TYPE}-{PART}.png\"\n",
    "\n",
    "COLORS = {}\n",
    "COLORS[\"Flow Loss\"] = \"blue\"\n",
    "COLORS[\"Flow Loss Bitmap\"] = \"lightblue\"\n",
    "\n",
    "COLORS[\"Q-Error\"] = \"green\"\n",
    "COLORS[\"Q-Error Bitmap\"] = \"lightgreen\"\n",
    "\n",
    "LINESTYLES = {}\n",
    "LINESTYLES[\"Flow Loss\"] = \":\"\n",
    "LINESTYLES[\"Q-Error\"] = \"--\"\n",
    "LINESTYLES[\"Flow Loss Bitmap\"] =  \":\"\n",
    "LINESTYLES[\"Q-Error Bitmap\"] = \"--\"\n",
    "\n",
    "# LINESTYLES[\"Flow Loss Bitmap\"] =  (0, (3, 10, 1, 10))\n",
    "# LINESTYLES[\"Q-Error Bitmap\"] = (0, (3, 10, 1, 10))\n",
    "\n",
    "ALG_KEY = {}\n",
    "ALG_KEY[\"flow_loss2\"] = \"Flow Loss\"\n",
    "ALG_KEY[\"flow_loss2_bitmap\"] = \"Flow Loss Bitmap\"\n",
    "\n",
    "ALG_KEY[\"mse\"] = \"Q-Error\"\n",
    "ALG_KEY[\"mse_bitmap\"] = \"Q-Error Bitmap\"\n",
    "\n",
    "OVERLAP_INFO = \"./all_results/3/overlap_info.pkl\"\n",
    "\n",
    "dfs = []\n",
    "for res_dir in RES_DIRS:\n",
    "    df = get_summary_df(res_dir)\n",
    "    if \"final_results2\" in res_dir:\n",
    "        df = df[df.feat_rel_pg_ests_onehot == 1]\n",
    "    df[\"res_dir\"] = str(deterministic_hash(res_dir))[0:5]\n",
    "    dfs.append(df)\n",
    "df = pd.concat(dfs, ignore_index=True)"
   ]
  },
  {
   "cell_type": "code",
   "execution_count": 7,
   "metadata": {},
   "outputs": [
    {
     "name": "stdout",
     "output_type": "stream",
     "text": [
      "additional default filters\n",
      "{'mse', 'flow_loss2'}\n",
      "{1}\n",
      "{0}\n",
      "{1}\n",
      "{512}\n",
      "{0.5}\n",
      "{0.1}\n"
     ]
    }
   ],
   "source": [
    "df = df[df[\"alg_name\"] != \"true\"]\n",
    "df = df[df[\"alg_name\"] != \"postgres\"]\n",
    "df = df[df[\"weight_decay\"] == 0.1]\n",
    "\n",
    "all_df = df[df[\"template\"] != \"all\"]\n",
    "df = df[df[\"template\"] == \"all\"]\n",
    "df = df[df[\"summary_type\"] == \"mean\"]\n",
    "\n",
    "print(\"additional default filters\")\n",
    "df = df[df.test_size == 0.5]\n",
    "df = df[df.max_discrete_featurizing_buckets == 10]\n",
    "\n",
    "print(set(df[\"alg_name\"]))\n",
    "print(set(df[\"flow_features\"]))\n",
    "print(set(df[\"sample_bitmap\"]))\n",
    "print(set(df[\"feat_rel_pg_ests_onehot\"]))\n",
    "print(set(df[\"hidden_layer_size\"]))\n",
    "print(set(df[\"test_size\"]))\n",
    "print(set(df[\"weight_decay\"]))\n",
    "\n",
    "\n"
   ]
  },
  {
   "cell_type": "code",
   "execution_count": 44,
   "metadata": {},
   "outputs": [],
   "source": [
    "def get_part_losses(df, key):\n",
    "    losses = []\n",
    "    for part in set(df[\"partition\"]):\n",
    "        tmp = df[df.partition == part]\n",
    "        if len(tmp) == 0:\n",
    "            continue\n",
    "        losses.append(np.mean(tmp[key].values))\n",
    "    \n",
    "    return np.array(losses)\n",
    "        \n",
    "def plot_bar_chart(df, err_type, st, yscale=\"linear\", key=\"loss\", ylabel=\"\", ymax=None, err_bar=\"percentiles\"):\n",
    "    df = df[df.samples_type == st]\n",
    "    fn = FN_TMP.format(ERROR_TYPE = err_type,\n",
    "                       SAMPLES_TYPE = st,\n",
    "                       PART = \"All-Bar-\" + err_bar)\n",
    "    fn = SAVE_DIR + fn\n",
    "\n",
    "    plt.figure(figsize=(5,4))\n",
    "    plt.style.use('ggplot')\n",
    "\n",
    "    plt.title(err_type)\n",
    "    \n",
    "\n",
    "    algs = [\"flow_loss2\", \"mse\"]\n",
    "    for alg in algs:\n",
    "        if alg == \"true\" and key != \"runtime\":\n",
    "            continue\n",
    "\n",
    "        tmp_df = df[df.alg_name == alg]\n",
    "        alg_label = ALG_KEY[alg]\n",
    "        \n",
    "        losses = get_part_losses(tmp_df, key)\n",
    "        \n",
    "        std = np.std(losses)\n",
    "        count = len(losses)\n",
    "        mean = np.mean(losses)\n",
    "        median = np.median(losses)\n",
    "        p90 = np.percentile(losses, 95)\n",
    "        p10 = np.percentile(losses, 5)\n",
    "\n",
    "        \n",
    "        if err_bar == \"percentiles\":\n",
    "            plt.bar(alg_label, height=mean, yerr=[[p10], [p90]],label = alg_label, linestyle=\"--\", linewidth=3, \n",
    "                    color = COLORS[alg_label], capsize=10)\n",
    "        elif err_bar == \"std\":                         \n",
    "            plt.bar(alg_label, height=mean, yerr=std,label = alg_label, linestyle=\"--\", linewidth=3, \n",
    "                color = COLORS[alg_label], capsize=10)\n",
    "    \n",
    "    \n",
    "    plt.ylabel(ylabel)\n",
    "    plt.xlabel(\"Loss Function\")\n",
    "    plt.yscale(yscale)\n",
    "    plt.legend(frameon=False, loc=\"upper left\")\n",
    "    plt.savefig(fn)\n",
    "    plt.show()"
   ]
  },
  {
   "cell_type": "code",
   "execution_count": 45,
   "metadata": {},
   "outputs": [
    {
     "data": {
      "image/png": "[encoded data removed]",
      "text/plain": [
       "<Figure size 360x288 with 1 Axes>"
      ]
     },
     "metadata": {},
     "output_type": "display_data"
    },
    {
     "data": {
      "image/png": "[encoded data removed]",
      "text/plain": [
       "<Figure size 360x288 with 1 Axes>"
      ]
     },
     "metadata": {},
     "output_type": "display_data"
    }
   ],
   "source": [
    "jerrs = df[df.loss_type == \"jerr\"]\n",
    "plot_bar_chart(jerrs, \"Postgres Plan Error\", \"test\", yscale=\"log\", ylabel=\"Postgres Cost Model Units\", err_bar=\"std\")\n",
    "plot_bar_chart(jerrs, \"Postgres Plan Error\", \"test\", yscale=\"log\", ylabel=\"Postgres Cost Model Units\", \n",
    "               err_bar=\"percentiles\")"
   ]
  },
  {
   "cell_type": "code",
   "execution_count": 47,
   "metadata": {},
   "outputs": [
    {
     "data": {
      "image/png": "[encoded data removed]",
      "text/plain": [
       "<Figure size 360x288 with 1 Axes>"
      ]
     },
     "metadata": {},
     "output_type": "display_data"
    },
    {
     "data": {
      "image/png": "[encoded data removed]",
      "text/plain": [
       "<Figure size 360x288 with 1 Axes>"
      ]
     },
     "metadata": {},
     "output_type": "display_data"
    }
   ],
   "source": [
    "qerrs = df[df.loss_type == \"qerr\"]\n",
    "plot_bar_chart(qerrs, \"Q-Error\", \"test\", yscale=\"log\", ylabel=\"Q-Error\", err_bar=\"std\")\n",
    "plot_bar_chart(qerrs, \"Q-Error\", \"test\", yscale=\"log\", ylabel=\"Q-Error\", \n",
    "               err_bar=\"percentiles\")"
   ]
  },
  {
   "cell_type": "code",
   "execution_count": 39,
   "metadata": {},
   "outputs": [
    {
     "data": {
      "text/plain": [
       "{'flow_loss2', 'mse'}"
      ]
     },
     "execution_count": 39,
     "metadata": {},
     "output_type": "execute_result"
    }
   ],
   "source": [
    "set(jerrs[\"alg_name\"])"
   ]
  },
  {
   "cell_type": "code",
   "execution_count": null,
   "metadata": {},
   "outputs": [],
   "source": []
  }
 ],
 "metadata": {
  "kernelspec": {
   "display_name": "Python 3",
   "language": "python",
   "name": "python3"
  },
  "language_info": {
   "codemirror_mode": {
    "name": "ipython",
    "version": 3
   },
   "file_extension": ".py",
   "mimetype": "text/x-python",
   "name": "python",
   "nbconvert_exporter": "python",
   "pygments_lexer": "ipython3",
   "version": "3.8.2"
  }
 },
 "nbformat": 4,
 "nbformat_minor": 4
}
