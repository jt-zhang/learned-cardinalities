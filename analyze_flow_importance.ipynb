{
 "cells": [
  {
   "cell_type": "code",
   "execution_count": 152,
   "metadata": {},
   "outputs": [
    {
     "name": "stdout",
     "output_type": "stream",
     "text": [
      "The autoreload extension is already loaded. To reload it, use:\n",
      "  %reload_ext autoreload\n"
     ]
    }
   ],
   "source": [
    "import pandas as pd\n",
    "import matplotlib\n",
    "matplotlib.use('Agg')\n",
    "import matplotlib.pyplot as plt\n",
    "from matplotlib.backends.backend_pdf import PdfPages\n",
    "import seaborn as sns\n",
    "%matplotlib inline\n",
    "%load_ext autoreload\n",
    "%autoreload 2\n",
    "from scripts.parsing_utils import *\n",
    "from utils.utils import *\n",
    "from scripts.parse_results import *\n",
    "import pickle"
   ]
  },
  {
   "cell_type": "code",
   "execution_count": 211,
   "metadata": {},
   "outputs": [],
   "source": [
    "#RES_DIR = \"/home/pari/learned-cardinalities/all_results/inl_fixed_scan_ops/nested_loop_index7/test_diff/subq_imp\"\n",
    "#RES_DIR2 = \"/home/pari/learned-cardinalities/all_results/inl_fixed_scan_ops/nested_loop_index7/test_diff/subq_imp2\"\n",
    "\n",
    "#RES_DIR = \"/home/pari/learned-cardinalities/debug/\"\n",
    "RES_DIR = \"/home/pari/learned-cardinalities/all_results/inl_fixed_scan_ops/nested_loop_index7/test_diff/final_results3_lc\"\n",
    "\n",
    "\n",
    "HIGH_QUANTILE = 0.80\n",
    "LOW_QUANTILE = 0.20\n",
    "\n",
    "COLORS = {}\n",
    "COLORS[\"Flow Loss\"] = \"blue\"\n",
    "COLORS[\"Q-Error\"] = \"green\"\n",
    "\n",
    "ALG_KEY = {}\n",
    "ALG_KEY[\"flow_loss2\"] = \"Flow Loss\"\n",
    "ALG_KEY[\"mse\"] = \"Q-Error\"\n",
    "\n",
    "SAVE_DIR =\"./figures/results1/\"\n",
    "make_dir(SAVE_DIR)\n",
    "FN_TMP = SAVE_DIR + \"Flow-Importance-{TYPE}-{PART}.png\""
   ]
  },
  {
   "cell_type": "code",
   "execution_count": 193,
   "metadata": {},
   "outputs": [
    {
     "name": "stdout",
     "output_type": "stream",
     "text": [
      "skipping obj:  subq_summary.pkl\n"
     ]
    }
   ],
   "source": [
    "df = get_all_objects(RES_DIR, \"subq_summary.pkl\")"
   ]
  },
  {
   "cell_type": "code",
   "execution_count": 194,
   "metadata": {},
   "outputs": [
    {
     "name": "stdout",
     "output_type": "stream",
     "text": [
      "Index(['loss', 'num_tables', 'template', 'subq_imp', 'subq_id', 'samples_type',\n",
      "       'epoch', 'alg', 'sample_bitmap', 'hidden_layer_size', 'flow_features',\n",
      "       'alg_name', 'partition'],\n",
      "      dtype='object')\n"
     ]
    }
   ],
   "source": [
    "print(df.keys())\n",
    "df.head()\n",
    "df = df[df.partition == 2]"
   ]
  },
  {
   "cell_type": "code",
   "execution_count": 195,
   "metadata": {},
   "outputs": [
    {
     "data": {
      "image/png": "[encoded data removed]",
      "text/plain": [
       "<Figure size 360x288 with 1 Axes>"
      ]
     },
     "metadata": {},
     "output_type": "display_data"
    }
   ],
   "source": [
    "plt.style.use('ggplot') \n",
    "plt.figure(figsize=(5,4))\n",
    "sns.distplot(df[\"subq_imp\"], kde=False, color=\"blue\")\n",
    "FN = FN_TMP.format(TYPE = \"Distribution\", PART=\"2\")\n",
    "plt.savefig(FN)\n",
    "plt.show()"
   ]
  },
  {
   "cell_type": "code",
   "execution_count": 196,
   "metadata": {},
   "outputs": [
    {
     "name": "stderr",
     "output_type": "stream",
     "text": [
      "/usr/lib/python3.8/site-packages/pandas/core/indexing.py:845: SettingWithCopyWarning: \n",
      "A value is trying to be set on a copy of a slice from a DataFrame.\n",
      "Try using .loc[row_indexer,col_indexer] = value instead\n",
      "\n",
      "See the caveats in the documentation: https://pandas.pydata.org/pandas-docs/stable/user_guide/indexing.html#returning-a-view-versus-a-copy\n",
      "  self.obj[key] = _infer_fill_value(value)\n",
      "/usr/lib/python3.8/site-packages/pandas/core/indexing.py:966: SettingWithCopyWarning: \n",
      "A value is trying to be set on a copy of a slice from a DataFrame.\n",
      "Try using .loc[row_indexer,col_indexer] = value instead\n",
      "\n",
      "See the caveats in the documentation: https://pandas.pydata.org/pandas-docs/stable/user_guide/indexing.html#returning-a-view-versus-a-copy\n",
      "  self.obj[item] = s\n"
     ]
    }
   ],
   "source": [
    "dfh = df[df.subq_imp >= df.subq_imp.quantile(HIGH_QUANTILE)]\n",
    "dfl = df[df.subq_imp <= df.subq_imp.quantile(LOW_QUANTILE)]\n",
    "dfm = df[df.subq_imp > df.subq_imp.quantile(LOW_QUANTILE)]\n",
    "dfm = dfm[dfm.subq_imp < df.subq_imp.quantile(HIGH_QUANTILE)]\n",
    "\n",
    "assert len(df) == len(dfh) + len(dfl) + len(dfm)\n",
    "dfh.loc[:,\"subq_imp_group\"] = \"high\"\n",
    "dfm.loc[:,\"subq_imp_group\"] = \"mid\"\n",
    "dfl.loc[:,\"subq_imp_group\"] = \"low\"\n",
    "df_groups = pd.concat([dfl, dfm, dfh], ignore_index = True)"
   ]
  },
  {
   "cell_type": "code",
   "execution_count": 197,
   "metadata": {},
   "outputs": [
    {
     "data": {
      "image/png": "[encoded data removed]",
      "text/plain": [
       "<Figure size 360x288 with 1 Axes>"
      ]
     },
     "metadata": {},
     "output_type": "display_data"
    }
   ],
   "source": [
    "df_groups[\"alg\"] = df_groups.apply(lambda x: ALG_KEY[x[\"alg\"]] ,axis=1)\n",
    "\n",
    "plt.style.use('ggplot')   \n",
    "plt.figure(figsize=(5,4))\n",
    "\n",
    "ORDER = [\"Q-Error\", \"Flow Loss\"]\n",
    "sns.barplot(x = \"subq_imp_group\", y = \"loss\", hue = \"alg\", data = df_groups, palette=COLORS, hue_order=ORDER)\n",
    "plt.xlabel(\"Subquery Importance (by Flows)\")\n",
    "plt.title(\"Q-Error Performance (Test-Set)\")\n",
    "\n",
    "plt.ylabel(\"Log Normalized Q-Error\")\n",
    "plt.legend(title=\"Loss Function\")\n",
    "\n",
    "# legend = plt.legend(handles=[one, two, three], title=\"title\",\n",
    "#                     loc=4, fontsize='small', fancybox=True)\n",
    "\n",
    "FN = FN_TMP.format(TYPE = \"Q-Errors\", PART=\"2\")\n",
    "plt.savefig(FN)\n",
    "plt.show()"
   ]
  },
  {
   "cell_type": "code",
   "execution_count": 158,
   "metadata": {},
   "outputs": [],
   "source": [
    "# # TODO: reload stuff\n",
    "# df = get_all_objects(RES_DIR, \"subq_summary.pkl\")\n",
    "# print(len(df))\n",
    "# dfh = df[df.subq_imp > df.subq_imp.quantile(HIGH_QUANTILE)]\n",
    "# dfl = df[df.subq_imp < df.subq_imp.quantile(LOW_QUANTILE)]\n",
    "# dfm = df[df.subq_imp > df.subq_imp.quantile(LOW_QUANTILE)]\n",
    "# dfm = dfm[dfm.subq_imp < df.subq_imp.quantile(HIGH_QUANTILE)]\n",
    "\n",
    "# assert len(df) == len(dfh) + len(dfl) + len(dfm)\n",
    "# dfh.loc[:,\"subq_imp_group\"] = \"high\"\n",
    "# dfm.loc[:,\"subq_imp_group\"] = \"mid\"\n",
    "# dfl.loc[:,\"subq_imp_group\"] = \"low\"\n",
    "# df_groups = pd.concat([dfl, dfm, dfh], ignore_index = True)\n",
    "#test_subq_ids = set(df[df[\"samples_type\"] == \"test\"][\"subq_id\"])\n",
    "#df_groups = df_groups[df_groups[\"subq_id\"].isin(test_subq_ids)]"
   ]
  },
  {
   "cell_type": "code",
   "execution_count": 198,
   "metadata": {},
   "outputs": [
    {
     "data": {
      "text/plain": [
       "subq_imp_group  samples_type\n",
       "high            test            2271\n",
       "                train           2011\n",
       "low             test            3520\n",
       "                train           2286\n",
       "mid             test            2110\n",
       "                train           1860\n",
       "Name: subq_id, dtype: int64"
      ]
     },
     "execution_count": 198,
     "metadata": {},
     "output_type": "execute_result"
    }
   ],
   "source": [
    "df_groups.groupby([\"subq_imp_group\", \"samples_type\"])[\"subq_id\"].nunique()"
   ]
  },
  {
   "cell_type": "code",
   "execution_count": 199,
   "metadata": {},
   "outputs": [],
   "source": [
    "# df2 = df_groups.groupby([\"subq_imp_group\", \"samples_type\"])[\"subq_id\"].nunique().reset_index()\n",
    "# print(df2)"
   ]
  },
  {
   "cell_type": "code",
   "execution_count": 200,
   "metadata": {},
   "outputs": [],
   "source": [
    "# ORDER = [\"low\", \"mid\", \"high\"]\n",
    "\n",
    "# #df2 = df2.rename(columns={\"samples_type\":\"Subquery Kind\"})\n",
    "# #df2[\"Subquery Kind\"] = df2.apply(, axis=1)\n",
    "# plt.style.use('ggplot')\n",
    "# plt.figure(figsize=(5,4))\n",
    "\n",
    "\n",
    "# HUE_ORDER=[\"train\", \"test\"]\n",
    "# TRAIN_COLORS = {}\n",
    "# TRAIN_COLORS[\"train\"] = \"orange\"\n",
    "# TRAIN_COLORS[\"test\"] = \"red\"\n",
    "\n",
    "# sns.barplot(data=df2, x=\"subq_imp_group\", y=\"subq_id\", hue=\"samples_type\", order=ORDER, hue_order=HUE_ORDER, \n",
    "#             palette=TRAIN_COLORS)\n",
    "# plt.xlabel(\"Subquery Importance (by Flows)\")\n",
    "# plt.title(\"Unique Subquery Combinations\")\n",
    "# plt.ylabel(\"Number of Subqueries\")\n",
    "\n",
    "# FN = FN_TMP.format(TYPE = \"Subquery-Grouping\", PART=\"2\")\n",
    "\n",
    "# plt.legend(title=\"Subquery Kind\")\n",
    "\n",
    "# plt.savefig(FN)\n",
    "# plt.show()"
   ]
  },
  {
   "cell_type": "code",
   "execution_count": 201,
   "metadata": {},
   "outputs": [
    {
     "data": {
      "text/html": [
       "<div>\n",
       "<style scoped>\n",
       "    .dataframe tbody tr th:only-of-type {\n",
       "        vertical-align: middle;\n",
       "    }\n",
       "\n",
       "    .dataframe tbody tr th {\n",
       "        vertical-align: top;\n",
       "    }\n",
       "\n",
       "    .dataframe thead th {\n",
       "        text-align: right;\n",
       "    }\n",
       "</style>\n",
       "<table border=\"1\" class=\"dataframe\">\n",
       "  <thead>\n",
       "    <tr style=\"text-align: right;\">\n",
       "      <th></th>\n",
       "      <th>subq_imp_group</th>\n",
       "      <th>samples_type</th>\n",
       "      <th>subq_id</th>\n",
       "    </tr>\n",
       "  </thead>\n",
       "  <tbody>\n",
       "    <tr>\n",
       "      <th>0</th>\n",
       "      <td>high</td>\n",
       "      <td>test</td>\n",
       "      <td>690</td>\n",
       "    </tr>\n",
       "    <tr>\n",
       "      <th>1</th>\n",
       "      <td>high</td>\n",
       "      <td>train</td>\n",
       "      <td>441</td>\n",
       "    </tr>\n",
       "    <tr>\n",
       "      <th>2</th>\n",
       "      <td>low</td>\n",
       "      <td>test</td>\n",
       "      <td>3093</td>\n",
       "    </tr>\n",
       "    <tr>\n",
       "      <th>3</th>\n",
       "      <td>low</td>\n",
       "      <td>train</td>\n",
       "      <td>919</td>\n",
       "    </tr>\n",
       "    <tr>\n",
       "      <th>4</th>\n",
       "      <td>mid</td>\n",
       "      <td>test</td>\n",
       "      <td>3461</td>\n",
       "    </tr>\n",
       "    <tr>\n",
       "      <th>5</th>\n",
       "      <td>mid</td>\n",
       "      <td>train</td>\n",
       "      <td>1322</td>\n",
       "    </tr>\n",
       "  </tbody>\n",
       "</table>\n",
       "</div>"
      ],
      "text/plain": [
       "  subq_imp_group samples_type  subq_id\n",
       "0           high         test      690\n",
       "1           high        train      441\n",
       "2            low         test     3093\n",
       "3            low        train      919\n",
       "4            mid         test     3461\n",
       "5            mid        train     1322"
      ]
     },
     "execution_count": 201,
     "metadata": {},
     "output_type": "execute_result"
    }
   ],
   "source": [
    "df2.head(10)"
   ]
  },
  {
   "cell_type": "code",
   "execution_count": 202,
   "metadata": {},
   "outputs": [
    {
     "name": "stdout",
     "output_type": "stream",
     "text": [
      "4601\n"
     ]
    }
   ],
   "source": [
    "print(len(set(df[\"subq_id\"])))"
   ]
  },
  {
   "cell_type": "code",
   "execution_count": 203,
   "metadata": {},
   "outputs": [
    {
     "data": {
      "text/plain": [
       "samples_type\n",
       "test     3566\n",
       "train    2377\n",
       "Name: subq_id, dtype: int64"
      ]
     },
     "execution_count": 203,
     "metadata": {},
     "output_type": "execute_result"
    }
   ],
   "source": [
    "df_groups.groupby([\"samples_type\"])[\"subq_id\"].nunique()"
   ]
  },
  {
   "cell_type": "code",
   "execution_count": 204,
   "metadata": {},
   "outputs": [
    {
     "data": {
      "text/plain": [
       "samples_type\n",
       "test     3286820\n",
       "train    3521146\n",
       "Name: subq_id, dtype: int64"
      ]
     },
     "execution_count": 204,
     "metadata": {},
     "output_type": "execute_result"
    }
   ],
   "source": [
    "df_groups.groupby([\"samples_type\"])[\"subq_id\"].count()"
   ]
  },
  {
   "cell_type": "code",
   "execution_count": 205,
   "metadata": {},
   "outputs": [],
   "source": [
    "def get_subq_ids(df, samples_type):\n",
    "    df = df[df.samples_type == samples_type]\n",
    "    return df.subq_id.values\n",
    "\n",
    "def get_subq_overlap(df, st1, st2):\n",
    "    a = get_subq_ids(df, st1)\n",
    "    b = get_subq_ids(df, st2)\n",
    "    common = np.intersect1d(a, b)\n",
    "    return len(common)"
   ]
  },
  {
   "cell_type": "code",
   "execution_count": 206,
   "metadata": {},
   "outputs": [
    {
     "name": "stdout",
     "output_type": "stream",
     "text": [
      "4601\n"
     ]
    }
   ],
   "source": [
    "print(len(set(df[\"subq_id\"])))"
   ]
  },
  {
   "cell_type": "code",
   "execution_count": 207,
   "metadata": {},
   "outputs": [
    {
     "data": {
      "text/plain": [
       "1342"
      ]
     },
     "execution_count": 207,
     "metadata": {},
     "output_type": "execute_result"
    }
   ],
   "source": [
    "get_subq_overlap(df, \"train\", \"test\")"
   ]
  },
  {
   "cell_type": "code",
   "execution_count": 208,
   "metadata": {},
   "outputs": [
    {
     "data": {
      "text/plain": [
       "0"
      ]
     },
     "execution_count": 208,
     "metadata": {},
     "output_type": "execute_result"
    }
   ],
   "source": [
    "get_subq_overlap(df, \"train\", \"job\")"
   ]
  },
  {
   "cell_type": "code",
   "execution_count": 210,
   "metadata": {},
   "outputs": [
    {
     "name": "stdout",
     "output_type": "stream",
     "text": [
      "3335904\n",
      "136158\n",
      "3335904\n",
      "[1249, 959, 1084]\n",
      "[4557, 3011, 3198]\n",
      "[0.27408383 0.31849884 0.33896185]\n"
     ]
    },
    {
     "data": {
      "text/plain": [
       "<Figure size 360x288 with 0 Axes>"
      ]
     },
     "metadata": {},
     "output_type": "display_data"
    }
   ],
   "source": [
    "ORDER = [\"low\", \"mid\", \"high\"]\n",
    "\n",
    "#df2 = df2.rename(columns={\"samples_type\":\"Subquery Kind\"})\n",
    "#df2[\"Subquery Kind\"] = df2.apply(, axis=1)\n",
    "plt.style.use('ggplot')\n",
    "plt.figure(figsize=(5,4))\n",
    "\n",
    "y_overlap = []\n",
    "y_total = []\n",
    "for grp in ORDER:\n",
    "    tmp = df_groups[df_groups.subq_imp_group == grp]\n",
    "    print(len(tmp))\n",
    "    y_total.append(len(set(tmp[\"subq_id\"])))\n",
    "    y_overlap.append(get_subq_overlap(tmp, \"train\", \"test\"))\n",
    "\n",
    "print(y_overlap)\n",
    "print(y_total)\n",
    "print(np.array(y_overlap) / np.array(y_total))\n",
    "# sns.barplot(data=df2, x=\"subq_imp_group\", y=\"subq_id\", hue=\"samples_type\", order=ORDER, hue_order=HUE_ORDER, \n",
    "#             palette=TRAIN_COLORS)\n",
    "# plt.xlabel(\"Subquery Importance (by Flows)\")\n",
    "# plt.title(\"Unique Subquery Combinations\")\n",
    "# plt.ylabel(\"Number of Subqueries\")\n",
    "\n",
    "# FN = FN_TMP.format(TYPE = \"Subquery-Grouping\", PART=\"2\")\n",
    "\n",
    "# plt.legend(title=\"Subquery Kind\")\n",
    "\n",
    "# plt.savefig(FN)\n",
    "# plt.show()"
   ]
  },
  {
   "cell_type": "code",
   "execution_count": 209,
   "metadata": {},
   "outputs": [
    {
     "data": {
      "text/plain": [
       "{'test', 'train'}"
      ]
     },
     "execution_count": 209,
     "metadata": {},
     "output_type": "execute_result"
    }
   ],
   "source": [
    "set(df[\"samples_type\"])"
   ]
  },
  {
   "cell_type": "code",
   "execution_count": null,
   "metadata": {},
   "outputs": [],
   "source": []
  }
 ],
 "metadata": {
  "kernelspec": {
   "display_name": "Python 3",
   "language": "python",
   "name": "python3"
  },
  "language_info": {
   "codemirror_mode": {
    "name": "ipython",
    "version": 3
   },
   "file_extension": ".py",
   "mimetype": "text/x-python",
   "name": "python",
   "nbconvert_exporter": "python",
   "pygments_lexer": "ipython3",
   "version": "3.8.5"
  }
 },
 "nbformat": 4,
 "nbformat_minor": 4
}
