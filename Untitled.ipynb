{
 "cells": [
  {
   "cell_type": "code",
   "execution_count": 1,
   "metadata": {},
   "outputs": [],
   "source": [
    "import pandas as pd\n",
    "import matplotlib\n",
    "matplotlib.use('Agg')\n",
    "import matplotlib.pyplot as plt\n",
    "from matplotlib.backends.backend_pdf import PdfPages\n",
    "import seaborn as sns\n",
    "%matplotlib inline\n",
    "%load_ext autoreload\n",
    "%autoreload 2\n",
    "from scripts.parsing_utils import *\n",
    "from utils.utils import *\n",
    "from scripts.parse_results import *\n",
    "import pickle"
   ]
  },
  {
   "cell_type": "code",
   "execution_count": 21,
   "metadata": {},
   "outputs": [],
   "source": [
    "BASE_DIR=\"/home/pari/learned-cardinalities/all_results/inl_fixed_scan_ops/nested_loop_index7/test_diff/\"\n",
    "RES_DIR1 = BASE_DIR + \"final_results_new_seeds\"\n",
    "RES_DIR2 = BASE_DIR + \"final_results3\"\n",
    "\n",
    "RES_DIRS = []\n",
    "RES_DIRS.append(RES_DIR1)\n",
    "RES_DIRS.append(RES_DIR2)"
   ]
  },
  {
   "cell_type": "code",
   "execution_count": 22,
   "metadata": {},
   "outputs": [
    {
     "name": "stdout",
     "output_type": "stream",
     "text": [
      "skipping obj:  cm1_jerr.pkl\n",
      "skipping obj:  cm1_jerr.pkl\n",
      "skipping obj:  cm1_jerr.pkl\n",
      "skipping obj:  cm1_jerr.pkl\n",
      "skipping obj:  cm1_jerr.pkl\n",
      "skipping obj:  cm1_jerr.pkl\n"
     ]
    }
   ],
   "source": [
    "df2s = []\n",
    "for res_dir in RES_DIRS:\n",
    "    jerr = get_all_objects(res_dir, \"cm1_jerr.pkl\")\n",
    "    df2s.append(jerr)\n",
    "    \n",
    "df = pd.concat(df2s, ignore_index=True)"
   ]
  },
  {
   "cell_type": "code",
   "execution_count": 23,
   "metadata": {},
   "outputs": [
    {
     "name": "stdout",
     "output_type": "stream",
     "text": [
      "Index(['sql_key', 'explain', 'plan', 'exec_sql', 'cost', 'loss',\n",
      "       'postgresql_conf', 'samples_type', 'template', 'qfn', 'alg',\n",
      "       'sample_bitmap', 'hidden_layer_size', 'flow_features', 'alg_name',\n",
      "       'partition'],\n",
      "      dtype='object')\n",
      "426312\n",
      "13685\n",
      "254639\n",
      "49192\n"
     ]
    }
   ],
   "source": [
    "print(df.keys())\n",
    "print(len(df))\n",
    "print(len(set(df[\"sql_key\"])))\n",
    "print(len(set(df[\"cost\"])))\n",
    "print(len(set(df[\"plan\"])))"
   ]
  },
  {
   "cell_type": "code",
   "execution_count": null,
   "metadata": {},
   "outputs": [],
   "source": []
  }
 ],
 "metadata": {
  "kernelspec": {
   "display_name": "Python 3",
   "language": "python",
   "name": "python3"
  },
  "language_info": {
   "codemirror_mode": {
    "name": "ipython",
    "version": 3
   },
   "file_extension": ".py",
   "mimetype": "text/x-python",
   "name": "python",
   "nbconvert_exporter": "python",
   "pygments_lexer": "ipython3",
   "version": "3.8.2"
  }
 },
 "nbformat": 4,
 "nbformat_minor": 4
}
