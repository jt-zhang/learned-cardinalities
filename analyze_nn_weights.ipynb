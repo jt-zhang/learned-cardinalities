{
 "cells": [
  {
   "cell_type": "code",
   "execution_count": 183,
   "metadata": {},
   "outputs": [
    {
     "name": "stdout",
     "output_type": "stream",
     "text": [
      "The autoreload extension is already loaded. To reload it, use:\n",
      "  %reload_ext autoreload\n"
     ]
    }
   ],
   "source": [
    "import pandas as pd\n",
    "import matplotlib\n",
    "matplotlib.use('Agg')\n",
    "import matplotlib.pyplot as plt\n",
    "from matplotlib.backends.backend_pdf import PdfPages\n",
    "import seaborn as sns\n",
    "%matplotlib inline\n",
    "%load_ext autoreload\n",
    "%autoreload 2\n",
    "from scripts.parsing_utils import *\n",
    "from utils.utils import *\n",
    "from scripts.parse_results import *\n",
    "import torch\n",
    "from utils.net import *\n",
    "import klepto"
   ]
  },
  {
   "cell_type": "code",
   "execution_count": 187,
   "metadata": {},
   "outputs": [],
   "source": [
    "#RES_DIR = \"./debug/nested_loop_index7-mscn-df:10-nn:1:128-loss:mse-0.0--D0.1-831/\"\n",
    "RES_DIR = \"/home/pari/learned-cardinalities/all_results/inl_fixed_scan_ops/nested_loop_index7/test_diff/subq_imp2/diff_partitions-nested_loop_index7-mscn-df:10-nn:1:256-loss:mse-0.0--D0.1-926/\"\n",
    "RES_DIR = \"/home/pari/learned-cardinalities/all_results/inl_fixed_scan_ops/\"\n",
    "#RES_DIR = \"./debug/\"\n",
    "WEIGHT_FN = \"model_weights.pt\""
   ]
  },
  {
   "cell_type": "code",
   "execution_count": 216,
   "metadata": {},
   "outputs": [],
   "source": [
    "def viz_weight_means(weights, kind):\n",
    "    flow_weights = weights[kind].cpu().numpy()\n",
    "    #flow_weights = np.maximum(flow_weights, 0.0)\n",
    "    flow_weights = np.mean(flow_weights, axis=0)\n",
    "    sns.barplot(y=flow_weights)\n",
    "    plt.title(kind)\n",
    "    plt.show()"
   ]
  },
  {
   "cell_type": "code",
   "execution_count": 189,
   "metadata": {},
   "outputs": [
    {
     "name": "stdout",
     "output_type": "stream",
     "text": [
      "Namespace(adaptive_lr=0, adaptive_lr_patience=20, algs='nn', avg_factor=1, avg_jl_num_last=5, avg_jl_priority=1, baseline_join_alg='EXHAUSTIVE', cache_dir='./caches/', cl_recompute=0, clip_gradient=20.0, compute_runtime=0, cost_model='nested_loop_index7', cost_model_plan_err=1, data_dir='/data/pari/cards/', db_file_name=None, db_host='localhost', db_name='imdb', debug_set=0, diff_templates_seed=2, diff_templates_type=3, dropout=0.0, eval_epoch=10, eval_epoch_flow_err=1, eval_epoch_jerr=1, eval_epoch_plan_err=1, eval_flow_loss=1, eval_num_tables=0, eval_on_job=1, eval_parallel=0, eval_test_while_training=1, execution_cache_threshold=20, exp_name='card_exp', exp_prefix='diff_partitions', feat_pg_costs=1, feat_pg_est_one_hot=0, feat_pg_path=1, feat_rel_pg_ests=1, feat_rel_pg_ests_onehot=0, feat_tolerance=1, flow_features=0, gen_bn_dist=0, gen_synth_data=0, group_models=0, heuristic_features=1, hidden_layer_multiple=None, hidden_layer_size=256, jl_indexes=1, jl_use_postgres=1, jl_variant=0, job_query_dir='./job_queries/', join_features=1, join_loss_data_file=None, join_loss_pool_num=60, load_query_together=0, loss_func='mse', losses='qerr,join-loss,flow-loss,plan-loss', lr=0.0001, max_discrete_featurizing_buckets=10, max_epochs=20, max_hid=128, min_corr=0.0, net_name='FCNN', nn_type='mscn', nn_weights_init_pg=0, no7a=0, normalization_type='mscn', normalize_flow_loss=1, num_bins=100, num_groups=1, num_hidden_layers=1, num_samples_per_template=-1, num_singular_vals=5, num_tables_feature=1, only_nonzero_samples=1, optimizer_name='adamw', pgm_alg_name='chow-liu', pgm_backend='ourpgm', pgm_merge_aliases=0, pgm_sampling_percentage=0.001, port=5432, pred_features=1, preload_features=1, prioritize_epoch=1, priority_err_type='jerr', priority_normalize_type='', priority_query_len_scale=0, pwd='', query_batch_size=1, query_directory='./our_dataset/queries', query_templates='all', random_seed=2112, rel_jloss=0, rel_qerr_loss=0, reprioritize_epoch=1, result_dir='all_results/inl_fixed_scan_ops/nested_loop_index7/test_diff/subq_imp2', rf_trees=128, sampling_key=None, sampling_percentage=10, sampling_priority_alpha=0.0, sampling_priority_type='query', sampling_type='ss', save_cur_cache_dir=None, save_gradients=1, single_threaded_nt=0, start_validation=5, synth_num_columns=2, synth_num_vals=100000, synth_period_len=10, synth_table='test', table_features=1, template_dir=None, test=1, test_diff_templates=1, test_size=0.5, tfboard=1, train_card_key='actual', use_best_val_model=1, use_subqueries=1, use_svd=0, use_val_set=0, user='', viz_fn='./test', viz_join_plans=0, weight_decay=0.1, weighted_mse=0.0, weighted_qloss=0)\n"
     ]
    }
   ],
   "source": [
    "args = load_object(RES_DIR + \"/args.pkl\")\n",
    "print(args)\n",
    "weights = torch.load(RES_DIR + WEIGHT_FN)"
   ]
  },
  {
   "cell_type": "code",
   "execution_count": 190,
   "metadata": {},
   "outputs": [
    {
     "data": {
      "text/plain": [
       "collections.OrderedDict"
      ]
     },
     "execution_count": 190,
     "metadata": {},
     "output_type": "execute_result"
    }
   ],
   "source": [
    "type(weights)"
   ]
  },
  {
   "cell_type": "code",
   "execution_count": 191,
   "metadata": {},
   "outputs": [
    {
     "data": {
      "text/plain": [
       "odict_keys(['sample_mlp1.0.weight', 'sample_mlp1.0.bias', 'sample_mlp2.0.weight', 'sample_mlp2.0.bias', 'predicate_mlp1.0.weight', 'predicate_mlp1.0.bias', 'predicate_mlp2.0.weight', 'predicate_mlp2.0.bias', 'join_mlp1.0.weight', 'join_mlp1.0.bias', 'join_mlp2.0.weight', 'join_mlp2.0.bias', 'out_mlp1.0.weight', 'out_mlp1.0.bias', 'out_mlp2.0.weight', 'out_mlp2.0.bias'])"
      ]
     },
     "execution_count": 191,
     "metadata": {},
     "output_type": "execute_result"
    }
   ],
   "source": [
    "weights.keys()\n",
    "# TODO: remove negative values in analysis as ReLU will remove them too"
   ]
  },
  {
   "cell_type": "code",
   "execution_count": 192,
   "metadata": {},
   "outputs": [
    {
     "name": "stdout",
     "output_type": "stream",
     "text": [
      "836\n"
     ]
    }
   ],
   "source": [
    "print(weights[\"predicate_mlp1.0.weight\"].shape[1])"
   ]
  },
  {
   "cell_type": "code",
   "execution_count": 193,
   "metadata": {},
   "outputs": [
    {
     "data": {
      "text/plain": [
       "256"
      ]
     },
     "execution_count": 193,
     "metadata": {},
     "output_type": "execute_result"
    }
   ],
   "source": [
    "args.hidden_layer_size"
   ]
  },
  {
   "cell_type": "code",
   "execution_count": 197,
   "metadata": {},
   "outputs": [],
   "source": [
    "if args.flow_features:\n",
    "    net = SetConv(weights[\"sample_mlp1.0.weight\"].shape[1], weights[\"predicate_mlp1.0.weight\"].shape[1], \n",
    "             weights[\"join_mlp1.0.weight\"].shape[1], weights[\"flow_mlp1.0.weight\"].shape[1], args.hidden_layer_size)\n",
    "else:\n",
    "    net = SetConv(weights[\"sample_mlp1.0.weight\"].shape[1], weights[\"predicate_mlp1.0.weight\"].shape[1], \n",
    "        weights[\"join_mlp1.0.weight\"].shape[1], 0, args.hidden_layer_size)"
   ]
  },
  {
   "cell_type": "code",
   "execution_count": 198,
   "metadata": {},
   "outputs": [
    {
     "data": {
      "text/plain": [
       "SetConv(\n",
       "  (sample_mlp1): Sequential(\n",
       "    (0): Linear(in_features=21, out_features=256, bias=True)\n",
       "    (1): ReLU()\n",
       "  )\n",
       "  (sample_mlp2): Sequential(\n",
       "    (0): Linear(in_features=256, out_features=256, bias=True)\n",
       "    (1): ReLU()\n",
       "  )\n",
       "  (predicate_mlp1): Sequential(\n",
       "    (0): Linear(in_features=836, out_features=256, bias=True)\n",
       "    (1): ReLU()\n",
       "  )\n",
       "  (predicate_mlp2): Sequential(\n",
       "    (0): Linear(in_features=256, out_features=256, bias=True)\n",
       "    (1): ReLU()\n",
       "  )\n",
       "  (join_mlp1): Sequential(\n",
       "    (0): Linear(in_features=129, out_features=256, bias=True)\n",
       "    (1): ReLU()\n",
       "  )\n",
       "  (join_mlp2): Sequential(\n",
       "    (0): Linear(in_features=256, out_features=256, bias=True)\n",
       "    (1): ReLU()\n",
       "  )\n",
       "  (out_mlp1): Sequential(\n",
       "    (0): Linear(in_features=768, out_features=256, bias=True)\n",
       "    (1): ReLU()\n",
       "  )\n",
       "  (out_mlp2): Sequential(\n",
       "    (0): Linear(in_features=256, out_features=1, bias=True)\n",
       "    (1): Sigmoid()\n",
       "  )\n",
       "  (drop_layer): Dropout(p=0.0, inplace=False)\n",
       ")"
      ]
     },
     "execution_count": 198,
     "metadata": {},
     "output_type": "execute_result"
    }
   ],
   "source": [
    "net"
   ]
  },
  {
   "cell_type": "code",
   "execution_count": 199,
   "metadata": {},
   "outputs": [],
   "source": [
    "misc_cache = klepto.archives.dir_archive(\"./misc_cache\",\n",
    "            cached=True, serialized=True)\n",
    "db_key = deterministic_hash(\"db-\" + args.query_directory + \\\n",
    "                args.query_templates + str(args.eval_on_job))\n",
    "assert db_key in misc_cache.archive\n",
    "db = misc_cache.archive[db_key]\n",
    "db.init_featurizer(num_tables_feature = args.num_tables_feature,\n",
    "            max_discrete_featurizing_buckets =\n",
    "            args.max_discrete_featurizing_buckets,\n",
    "            heuristic_features = args.heuristic_features,\n",
    "            flow_features = args.flow_features,\n",
    "            feat_pg_costs = args.feat_pg_costs,\n",
    "            feat_pg_path = args.feat_pg_path,\n",
    "            feat_rel_pg_ests = args.feat_rel_pg_ests,\n",
    "            feat_rel_pg_ests_onehot = args.feat_rel_pg_ests_onehot,\n",
    "            feat_pg_est_one_hot = args.feat_pg_est_one_hot,\n",
    "            feat_tolerance = args.feat_tolerance,\n",
    "            cost_model = args.cost_model)\n"
   ]
  },
  {
   "cell_type": "code",
   "execution_count": 200,
   "metadata": {},
   "outputs": [
    {
     "name": "stdout",
     "output_type": "stream",
     "text": [
      "[833, 834, 835]\n"
     ]
    }
   ],
   "source": [
    "pred_maps = db.get_pred_features_map()"
   ]
  },
  {
   "cell_type": "code",
   "execution_count": 201,
   "metadata": {},
   "outputs": [
    {
     "name": "stdout",
     "output_type": "stream",
     "text": [
      "835\n",
      "(256, 836)\n"
     ]
    }
   ],
   "source": [
    "print(max(pred_maps[\"idx\"]))\n",
    "pred_weights = weights[\"predicate_mlp1.0.weight\"].cpu().numpy()\n",
    "print(pred_weights.shape)"
   ]
  },
  {
   "cell_type": "code",
   "execution_count": 202,
   "metadata": {},
   "outputs": [
    {
     "data": {
      "text/html": [
       "<div>\n",
       "<style scoped>\n",
       "    .dataframe tbody tr th:only-of-type {\n",
       "        vertical-align: middle;\n",
       "    }\n",
       "\n",
       "    .dataframe tbody tr th {\n",
       "        vertical-align: top;\n",
       "    }\n",
       "\n",
       "    .dataframe thead th {\n",
       "        text-align: right;\n",
       "    }\n",
       "</style>\n",
       "<table border=\"1\" class=\"dataframe\">\n",
       "  <thead>\n",
       "    <tr style=\"text-align: right;\">\n",
       "      <th></th>\n",
       "      <th>idx</th>\n",
       "      <th>descr</th>\n",
       "      <th>continuous</th>\n",
       "      <th>pg</th>\n",
       "      <th>feature_type</th>\n",
       "    </tr>\n",
       "  </thead>\n",
       "  <tbody>\n",
       "    <tr>\n",
       "      <th>0</th>\n",
       "      <td>0</td>\n",
       "      <td>t.production_year-lt</td>\n",
       "      <td>True</td>\n",
       "      <td>False</td>\n",
       "      <td>pred</td>\n",
       "    </tr>\n",
       "    <tr>\n",
       "      <th>1</th>\n",
       "      <td>1</td>\n",
       "      <td>t.production_year-like</td>\n",
       "      <td>True</td>\n",
       "      <td>False</td>\n",
       "      <td>pred</td>\n",
       "    </tr>\n",
       "    <tr>\n",
       "      <th>2</th>\n",
       "      <td>2</td>\n",
       "      <td>t.production_year-nlike</td>\n",
       "      <td>True</td>\n",
       "      <td>False</td>\n",
       "      <td>pred</td>\n",
       "    </tr>\n",
       "    <tr>\n",
       "      <th>3</th>\n",
       "      <td>3</td>\n",
       "      <td>t.production_year-in</td>\n",
       "      <td>True</td>\n",
       "      <td>False</td>\n",
       "      <td>pred</td>\n",
       "    </tr>\n",
       "    <tr>\n",
       "      <th>4</th>\n",
       "      <td>4</td>\n",
       "      <td>t.production_year-eq</td>\n",
       "      <td>True</td>\n",
       "      <td>False</td>\n",
       "      <td>pred</td>\n",
       "    </tr>\n",
       "    <tr>\n",
       "      <th>5</th>\n",
       "      <td>7</td>\n",
       "      <td>t.production_year-pg</td>\n",
       "      <td>True</td>\n",
       "      <td>True</td>\n",
       "      <td>pred</td>\n",
       "    </tr>\n",
       "    <tr>\n",
       "      <th>6</th>\n",
       "      <td>5</td>\n",
       "      <td>t.production_year-range</td>\n",
       "      <td>True</td>\n",
       "      <td>False</td>\n",
       "      <td>pred</td>\n",
       "    </tr>\n",
       "    <tr>\n",
       "      <th>7</th>\n",
       "      <td>6</td>\n",
       "      <td>t.production_year-range</td>\n",
       "      <td>True</td>\n",
       "      <td>False</td>\n",
       "      <td>pred</td>\n",
       "    </tr>\n",
       "    <tr>\n",
       "      <th>8</th>\n",
       "      <td>8</td>\n",
       "      <td>t.title-lt</td>\n",
       "      <td>False</td>\n",
       "      <td>False</td>\n",
       "      <td>pred</td>\n",
       "    </tr>\n",
       "    <tr>\n",
       "      <th>9</th>\n",
       "      <td>9</td>\n",
       "      <td>t.title-like</td>\n",
       "      <td>False</td>\n",
       "      <td>False</td>\n",
       "      <td>pred</td>\n",
       "    </tr>\n",
       "  </tbody>\n",
       "</table>\n",
       "</div>"
      ],
      "text/plain": [
       "   idx                    descr  continuous     pg feature_type\n",
       "0    0     t.production_year-lt        True  False         pred\n",
       "1    1   t.production_year-like        True  False         pred\n",
       "2    2  t.production_year-nlike        True  False         pred\n",
       "3    3     t.production_year-in        True  False         pred\n",
       "4    4     t.production_year-eq        True  False         pred\n",
       "5    7     t.production_year-pg        True   True         pred\n",
       "6    5  t.production_year-range        True  False         pred\n",
       "7    6  t.production_year-range        True  False         pred\n",
       "8    8               t.title-lt       False  False         pred\n",
       "9    9             t.title-like       False  False         pred"
      ]
     },
     "execution_count": 202,
     "metadata": {},
     "output_type": "execute_result"
    }
   ],
   "source": [
    "pred_maps.head(10)"
   ]
  },
  {
   "cell_type": "code",
   "execution_count": 208,
   "metadata": {},
   "outputs": [],
   "source": [
    "pred_weights = weights[\"predicate_mlp1.0.weight\"].cpu().numpy()\n",
    "#pred_weights = np.maximum(pred_weights, 0.0)\n",
    "mean_weights = np.mean(pred_weights, axis=0)"
   ]
  },
  {
   "cell_type": "code",
   "execution_count": 219,
   "metadata": {},
   "outputs": [],
   "source": [
    "# FIXME: this should map exactly?\n",
    "pred_maps[\"weight\"] = pred_maps.apply(lambda row: mean_weights[row[\"idx\"]], axis=1)"
   ]
  },
  {
   "cell_type": "code",
   "execution_count": 221,
   "metadata": {},
   "outputs": [
    {
     "data": {
      "image/png": "[encoded data removed]",
      "text/plain": [
       "<Figure size 432x288 with 1 Axes>"
      ]
     },
     "metadata": {
      "needs_background": "light"
     },
     "output_type": "display_data"
    }
   ],
   "source": [
    "sns.barplot(x=\"pg\", y=\"weight\", data=pred_maps)\n",
    "plt.show()"
   ]
  },
  {
   "cell_type": "code",
   "execution_count": 222,
   "metadata": {},
   "outputs": [
    {
     "data": {
      "image/png": "[encoded data removed]",
      "text/plain": [
       "<Figure size 432x288 with 1 Axes>"
      ]
     },
     "metadata": {
      "needs_background": "light"
     },
     "output_type": "display_data"
    },
    {
     "data": {
      "image/png": "[encoded data removed]",
      "text/plain": [
       "<Figure size 432x288 with 1 Axes>"
      ]
     },
     "metadata": {
      "needs_background": "light"
     },
     "output_type": "display_data"
    },
    {
     "data": {
      "image/png": "[encoded data removed]",
      "text/plain": [
       "<Figure size 432x288 with 1 Axes>"
      ]
     },
     "metadata": {
      "needs_background": "light"
     },
     "output_type": "display_data"
    }
   ],
   "source": [
    "if args.flow_features:\n",
    "    viz_weight_means(weights, kind=\"flow_mlp1.0.weight\")\n",
    "viz_weight_means(weights, kind=\"sample_mlp1.0.weight\")\n",
    "viz_weight_means(weights, kind=\"join_mlp1.0.weight\")\n",
    "viz_weight_means(weights, kind=\"predicate_mlp1.0.weight\")"
   ]
  },
  {
   "cell_type": "code",
   "execution_count": 223,
   "metadata": {},
   "outputs": [
    {
     "data": {
      "image/png": "[encoded data removed]",
      "text/plain": [
       "<Figure size 432x288 with 1 Axes>"
      ]
     },
     "metadata": {
      "needs_background": "light"
     },
     "output_type": "display_data"
    },
    {
     "data": {
      "image/png": "[encoded data removed]",
      "text/plain": [
       "<Figure size 432x288 with 1 Axes>"
      ]
     },
     "metadata": {
      "needs_background": "light"
     },
     "output_type": "display_data"
    },
    {
     "data": {
      "image/png": "[encoded data removed]",
      "text/plain": [
       "<Figure size 432x288 with 1 Axes>"
      ]
     },
     "metadata": {
      "needs_background": "light"
     },
     "output_type": "display_data"
    }
   ],
   "source": [
    "if args.flow_features:\n",
    "    viz_weight_means(weights, kind=\"flow_mlp1.0.bias\")\n",
    "viz_weight_means(weights, kind=\"sample_mlp1.0.bias\")\n",
    "viz_weight_means(weights, kind=\"join_mlp1.0.bias\")\n",
    "viz_weight_means(weights, kind=\"predicate_mlp1.0.bias\")"
   ]
  },
  {
   "cell_type": "code",
   "execution_count": 224,
   "metadata": {},
   "outputs": [
    {
     "name": "stdout",
     "output_type": "stream",
     "text": [
      "0\n"
     ]
    }
   ],
   "source": [
    "print(args.flow_features)"
   ]
  },
  {
   "cell_type": "code",
   "execution_count": null,
   "metadata": {},
   "outputs": [],
   "source": []
  }
 ],
 "metadata": {
  "kernelspec": {
   "display_name": "Python 3",
   "language": "python",
   "name": "python3"
  },
  "language_info": {
   "codemirror_mode": {
    "name": "ipython",
    "version": 3
   },
   "file_extension": ".py",
   "mimetype": "text/x-python",
   "name": "python",
   "nbconvert_exporter": "python",
   "pygments_lexer": "ipython3",
   "version": "3.8.2"
  }
 },
 "nbformat": 4,
 "nbformat_minor": 4
}
